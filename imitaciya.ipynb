{
  "nbformat": 4,
  "nbformat_minor": 0,
  "metadata": {
    "colab": {
      "provenance": [],
      "authorship_tag": "ABX9TyP436DzfY0dltvRX2XgEySF",
      "include_colab_link": true
    },
    "kernelspec": {
      "name": "python3",
      "display_name": "Python 3"
    },
    "language_info": {
      "name": "python"
    }
  },
  "cells": [
    {
      "cell_type": "markdown",
      "metadata": {
        "id": "view-in-github",
        "colab_type": "text"
      },
      "source": [
        "<a href=\"https://colab.research.google.com/github/VladimirElsukov/Bootstrap/blob/main/imitaciya.ipynb\" target=\"_parent\"><img src=\"https://colab.research.google.com/assets/colab-badge.svg\" alt=\"Open In Colab\"/></a>"
      ]
    },
    {
      "cell_type": "code",
      "source": [
        "# !pip install openai==0.28\n",
        "# import openai\n",
        "# print(openai.__version__)\n",
        "# openai.api_key = 'YOUR_API_KEY'\n",
        "# import json\n"
      ],
      "metadata": {
        "colab": {
          "base_uri": "https://localhost:8080/"
        },
        "id": "tkbbpqMYK5kr",
        "outputId": "7dbced26-ce7a-4964-b62c-6991ff1a2e0b"
      },
      "execution_count": null,
      "outputs": [
        {
          "output_type": "stream",
          "name": "stdout",
          "text": [
            "Requirement already satisfied: openai==0.28 in /usr/local/lib/python3.10/dist-packages (0.28.0)\n",
            "Requirement already satisfied: requests>=2.20 in /usr/local/lib/python3.10/dist-packages (from openai==0.28) (2.31.0)\n",
            "Requirement already satisfied: tqdm in /usr/local/lib/python3.10/dist-packages (from openai==0.28) (4.66.4)\n",
            "Requirement already satisfied: aiohttp in /usr/local/lib/python3.10/dist-packages (from openai==0.28) (3.9.5)\n",
            "Requirement already satisfied: charset-normalizer<4,>=2 in /usr/local/lib/python3.10/dist-packages (from requests>=2.20->openai==0.28) (3.3.2)\n",
            "Requirement already satisfied: idna<4,>=2.5 in /usr/local/lib/python3.10/dist-packages (from requests>=2.20->openai==0.28) (3.7)\n",
            "Requirement already satisfied: urllib3<3,>=1.21.1 in /usr/local/lib/python3.10/dist-packages (from requests>=2.20->openai==0.28) (2.0.7)\n",
            "Requirement already satisfied: certifi>=2017.4.17 in /usr/local/lib/python3.10/dist-packages (from requests>=2.20->openai==0.28) (2024.7.4)\n",
            "Requirement already satisfied: aiosignal>=1.1.2 in /usr/local/lib/python3.10/dist-packages (from aiohttp->openai==0.28) (1.3.1)\n",
            "Requirement already satisfied: attrs>=17.3.0 in /usr/local/lib/python3.10/dist-packages (from aiohttp->openai==0.28) (23.2.0)\n",
            "Requirement already satisfied: frozenlist>=1.1.1 in /usr/local/lib/python3.10/dist-packages (from aiohttp->openai==0.28) (1.4.1)\n",
            "Requirement already satisfied: multidict<7.0,>=4.5 in /usr/local/lib/python3.10/dist-packages (from aiohttp->openai==0.28) (6.0.5)\n",
            "Requirement already satisfied: yarl<2.0,>=1.0 in /usr/local/lib/python3.10/dist-packages (from aiohttp->openai==0.28) (1.9.4)\n",
            "Requirement already satisfied: async-timeout<5.0,>=4.0 in /usr/local/lib/python3.10/dist-packages (from aiohttp->openai==0.28) (4.0.3)\n",
            "0.28.0\n"
          ]
        }
      ]
    },
    {
      "cell_type": "code",
      "source": [
        "class MockOpenAI:\n",
        "    class ChatCompletion:\n",
        "        @staticmethod\n",
        "        def create(*args, **kwargs):\n",
        "            # Имитация ответа так, как нет api ключа\n",
        "            return {\n",
        "                'choices': [{\n",
        "                    'message': {\n",
        "                        'content': \"Да, переход возможен, так как клиент проявляет интерес и готов к следующему этапу.\"\n",
        "                    }\n",
        "                }]\n",
        "            }\n",
        "\n",
        "class SalesStageEvaluator:\n",
        "    def __init__(self, steps):\n",
        "        self.steps = steps\n",
        "\n",
        "    def evaluate(self, current_stage, dialogue):\n",
        "        prompt = f\"\"\"\n",
        "        Этапы продаж: {', '.join(self.steps)}\n",
        "        Текущий этап: {current_stage}\n",
        "        Диалог: {dialogue}\n",
        "\n",
        "        Можно ли перейти на следующий этап? Ответь \"да\", если переход возможен, в противном случае - \"нет\", и объясни почему.\n",
        "        \"\"\"\n",
        "\n",
        "        # Используем мок-ответ\n",
        "        response = MockOpenAI.ChatCompletion.create(\n",
        "            model=\"gpt-3.5-turbo\",\n",
        "            messages=[\n",
        "                {\"role\": \"user\", \"content\": prompt}\n",
        "            ]\n",
        "        )\n",
        "\n",
        "        return response['choices'][0]['message']['content']\n",
        "\n",
        "\n",
        "\n",
        "dialogue_examples = {\n",
        "    \"Первичный контакт\": [\n",
        "        \"Специалист: 'Здравствуйте! Как могу помочь вам сегодня?'\",\n",
        "        \"Клиент: 'Я ищу новый сноуборд.'\"\n",
        "    ],\n",
        "    \"Обсуждение потребностей\": [\n",
        "        \"Специалист: 'Какой у вас опыт катания?'\",\n",
        "        \"Клиент: 'Я начинающий.'\"\n",
        "    ],\n",
        "    \"Представление решения\": [\n",
        "        \"Специалист: 'Я рекомендую вам эту модель, она подходит для новичков.'\",\n",
        "        \"Клиент: 'Звучит хорошо!'\"\n",
        "    ],\n",
        "    \"Обработка возражений\": [\n",
        "        \"Специалист: 'Если вас беспокоит цена, у нас есть рассрочка.'\",\n",
        "        \"Клиент: 'Это было бы здорово.'\"\n",
        "    ],\n",
        "    \"Закрытие сделки\": [\n",
        "        \"Специалист: 'Хотите оформить покупку прямо сейчас?'\",\n",
        "        \"Клиент: 'Да, давайте!'\"\n",
        "    ]\n",
        "}\n",
        "\n",
        "\n",
        "steps = [\n",
        "    \"Первичный контакт\",\n",
        "    \"Обсуждение потребностей\",\n",
        "    \"Представление решения\",\n",
        "    \"Обработка возражений\",\n",
        "    \"Закрытие сделки\"\n",
        "]\n",
        "\n",
        "evaluator = SalesStageEvaluator(steps)\n",
        "\n",
        "# Оцениваем каждый диалог\n",
        "for stage, dialogue in dialogue_examples.items():\n",
        "    full_dialogue = \"\\n\".join(dialogue)\n",
        "    result = evaluator.evaluate(stage, full_dialogue)\n",
        "    print(f\"Этап: {stage}\\nДиалог:\\n{full_dialogue}\\nРезультат оценки: {result}\\n\")"
      ],
      "metadata": {
        "colab": {
          "base_uri": "https://localhost:8080/"
        },
        "id": "buFA_5w3sXUD",
        "outputId": "0f89048a-c6e8-472e-d936-40a6e87724d8"
      },
      "execution_count": null,
      "outputs": [
        {
          "output_type": "stream",
          "name": "stdout",
          "text": [
            "Этап: Первичный контакт\n",
            "Диалог:\n",
            "Специалист: 'Здравствуйте! Как могу помочь вам сегодня?'\n",
            "Клиент: 'Я ищу новый сноуборд.'\n",
            "Результат оценки: Да, переход возможен, так как клиент проявляет интерес и готов к следующему этапу.\n",
            "\n",
            "Этап: Обсуждение потребностей\n",
            "Диалог:\n",
            "Специалист: 'Какой у вас опыт катания?'\n",
            "Клиент: 'Я начинающий.'\n",
            "Результат оценки: Да, переход возможен, так как клиент проявляет интерес и готов к следующему этапу.\n",
            "\n",
            "Этап: Представление решения\n",
            "Диалог:\n",
            "Специалист: 'Я рекомендую вам эту модель, она подходит для новичков.'\n",
            "Клиент: 'Звучит хорошо!'\n",
            "Результат оценки: Да, переход возможен, так как клиент проявляет интерес и готов к следующему этапу.\n",
            "\n",
            "Этап: Обработка возражений\n",
            "Диалог:\n",
            "Специалист: 'Если вас беспокоит цена, у нас есть рассрочка.'\n",
            "Клиент: 'Это было бы здорово.'\n",
            "Результат оценки: Да, переход возможен, так как клиент проявляет интерес и готов к следующему этапу.\n",
            "\n",
            "Этап: Закрытие сделки\n",
            "Диалог:\n",
            "Специалист: 'Хотите оформить покупку прямо сейчас?'\n",
            "Клиент: 'Да, давайте!'\n",
            "Результат оценки: Да, переход возможен, так как клиент проявляет интерес и готов к следующему этапу.\n",
            "\n"
          ]
        }
      ]
    }
  ]
}